{
 "cells": [
  {
   "cell_type": "code",
   "execution_count": 4,
   "id": "f0b302aa-0768-40be-9cb9-e78eb36e8e84",
   "metadata": {
    "tags": []
   },
   "outputs": [],
   "source": [
    "import os\n",
    "import requests\n",
    "import json\n",
    "from pprint import pprint\n",
    "import pandas as pd\n"
   ]
  },
  {
   "cell_type": "code",
   "execution_count": 5,
   "id": "2aa5660d-b399-4ef1-89c5-5e9b1bd61af5",
   "metadata": {},
   "outputs": [],
   "source": [
    "# Set base url for Opensea testnet API\n",
    "base_url = \"https://testnets-api.opensea.io/api/v1/collection\"\n",
    "\n",
    "# Set Test (Rinkeby) Wallet Address <input your wallet address here>\n",
    "wallet_address = \"0xCf43a2A021713071b8dDD5bc6Db0f71482e5AD77\"\n"
   ]
  },
  {
   "cell_type": "code",
   "execution_count": 6,
   "id": "05643142-cf8d-4694-b9e3-da0e9c85e65a",
   "metadata": {},
   "outputs": [
    {
     "name": "stdout",
     "output_type": "stream",
     "text": [
      "============================================================\n",
      "The name of this collection is Spynnergy Metamorphosis\n",
      "The number of NFTs in this collection is 6.0\n",
      "The seven day average price of this collection is 0.53 ETH\n",
      "============================================================\n",
      "{'collection': {'banner_image_url': None,\n",
      "                'chat_url': None,\n",
      "                'created_date': '2022-05-10T23:17:36.084839',\n",
      "                'default_to_fiat': False,\n",
      "                'description': None,\n",
      "                'dev_buyer_fee_basis_points': '0',\n",
      "                'dev_seller_fee_basis_points': '0',\n",
      "                'discord_url': None,\n",
      "                'display_data': {'card_display_style': 'contain', 'images': []},\n",
      "                'editors': ['0x9c601fcb68dcfb9f3f0ead05cbc8262b6a7a05bd'],\n",
      "                'external_url': None,\n",
      "                'featured': False,\n",
      "                'featured_image_url': None,\n",
      "                'hidden': False,\n",
      "                'image_url': None,\n",
      "                'instagram_username': None,\n",
      "                'is_nsfw': False,\n",
      "                'is_subject_to_whitelist': False,\n",
      "                'large_image_url': None,\n",
      "                'medium_username': None,\n",
      "                'name': 'Spynnergy Metamorphosis',\n",
      "                'only_proxied_transfers': False,\n",
      "                'opensea_buyer_fee_basis_points': '0',\n",
      "                'opensea_seller_fee_basis_points': '250',\n",
      "                'payment_tokens': [{'address': '0x0000000000000000000000000000000000000000',\n",
      "                                    'decimals': 18,\n",
      "                                    'eth_price': 1.0,\n",
      "                                    'id': 382494,\n",
      "                                    'image_url': 'https://openseauserdata.com/files/6f8e2979d428180222796ff4a33ab929.svg',\n",
      "                                    'name': None,\n",
      "                                    'symbol': 'ETH',\n",
      "                                    'usd_price': 405.65},\n",
      "                                   {'address': '0xc778417e063141139fce010982780140aa0cd5ab',\n",
      "                                    'decimals': 18,\n",
      "                                    'eth_price': 1.0,\n",
      "                                    'id': 180476,\n",
      "                                    'image_url': 'https://openseauserdata.com/files/accae6b6fb3888cbff27a013729c22dc.svg',\n",
      "                                    'name': '',\n",
      "                                    'symbol': 'WETH',\n",
      "                                    'usd_price': 1704.17}],\n",
      "                'payout_address': None,\n",
      "                'primary_asset_contracts': [{'address': '0xe2c17e26d76f270944b55306b35abc25cb08f98b',\n",
      "                                             'asset_contract_type': 'non-fungible',\n",
      "                                             'buyer_fee_basis_points': 0,\n",
      "                                             'created_date': '2022-05-10T23:17:05.837927',\n",
      "                                             'default_to_fiat': False,\n",
      "                                             'description': None,\n",
      "                                             'dev_buyer_fee_basis_points': 0,\n",
      "                                             'dev_seller_fee_basis_points': 0,\n",
      "                                             'external_link': None,\n",
      "                                             'image_url': None,\n",
      "                                             'name': 'Spynnergy: Metamorphosis',\n",
      "                                             'nft_version': '3.0',\n",
      "                                             'only_proxied_transfers': False,\n",
      "                                             'opensea_buyer_fee_basis_points': 0,\n",
      "                                             'opensea_seller_fee_basis_points': 250,\n",
      "                                             'opensea_version': None,\n",
      "                                             'owner': 8030994,\n",
      "                                             'payout_address': None,\n",
      "                                             'schema_name': 'ERC721',\n",
      "                                             'seller_fee_basis_points': 250,\n",
      "                                             'symbol': 'SPYNN',\n",
      "                                             'total_supply': '0'}],\n",
      "                'require_email': False,\n",
      "                'safelist_request_status': 'not_requested',\n",
      "                'short_description': None,\n",
      "                'slug': 'spynnergy-metamorphosis',\n",
      "                'stats': {'average_price': 0.5678124999999999,\n",
      "                          'count': 6.0,\n",
      "                          'floor_price': None,\n",
      "                          'market_cap': 3.1542857142857144,\n",
      "                          'num_owners': 2,\n",
      "                          'num_reports': 0,\n",
      "                          'one_day_average_price': 0.0,\n",
      "                          'one_day_change': -1.0,\n",
      "                          'one_day_sales': 0.0,\n",
      "                          'one_day_volume': 0.0,\n",
      "                          'seven_day_average_price': 0.5257142857142857,\n",
      "                          'seven_day_change': -0.6993464052287581,\n",
      "                          'seven_day_sales': 7.0,\n",
      "                          'seven_day_volume': 3.68,\n",
      "                          'thirty_day_average_price': 0.5678124999999999,\n",
      "                          'thirty_day_change': 0.0,\n",
      "                          'thirty_day_sales': 32.0,\n",
      "                          'thirty_day_volume': 18.169999999999998,\n",
      "                          'total_sales': 32.0,\n",
      "                          'total_supply': 6.0,\n",
      "                          'total_volume': 18.169999999999998},\n",
      "                'telegram_url': None,\n",
      "                'traits': {},\n",
      "                'twitter_username': None,\n",
      "                'wiki_url': None}}\n"
     ]
    },
    {
     "data": {
      "text/plain": [
       "None"
      ]
     },
     "metadata": {},
     "output_type": "display_data"
    }
   ],
   "source": [
    "\n",
    "def get_collection_info(endpoint_string):\n",
    "    \n",
    "    result = requests.get(f\"{base_url}/{endpoint_string}\")\n",
    "    return result\n",
    "\n",
    "# Set a collection name variable (get this from the Opensea testnet site at https://testnets.opensea.io/\n",
    "collection_name = \"spynnergy-metamorphosis\"\n",
    "\n",
    "# make call to API passing collection_name into endpoint_string, returns json\n",
    "response = get_collection_info(collection_name).json()\n",
    "\n",
    "# Print out some data from the response json\n",
    "print(\"===\" * 20)\n",
    "print(f\"The name of this collection is {response['collection']['name']}\")\n",
    "print(f\"The number of NFTs in this collection is {response['collection']['stats']['count']}\")\n",
    "print(f\"The seven day average price of this collection is {response['collection']['stats']['seven_day_average_price']:.2f} ETH\")\n",
    "print(\"===\" * 20)\n",
    "\n",
    "# Display the whole response from the API call\n",
    "display(pprint(response))"
   ]
  },
  {
   "cell_type": "code",
   "execution_count": null,
   "id": "b2a6f29a-7914-49ca-99cd-69cba22713ae",
   "metadata": {},
   "outputs": [],
   "source": []
  },
  {
   "cell_type": "code",
   "execution_count": null,
   "id": "11b6cd56-ffb3-4a08-a7a9-7019087bb12b",
   "metadata": {},
   "outputs": [],
   "source": []
  }
 ],
 "metadata": {
  "kernelspec": {
   "display_name": "Python 3.7.13 ('dev')",
   "language": "python",
   "name": "python3"
  },
  "language_info": {
   "codemirror_mode": {
    "name": "ipython",
    "version": 3
   },
   "file_extension": ".py",
   "mimetype": "text/x-python",
   "name": "python",
   "nbconvert_exporter": "python",
   "pygments_lexer": "ipython3",
   "version": "3.7.13"
  },
  "vscode": {
   "interpreter": {
    "hash": "b2ec66fa3d085a6e66869b1a678e052484c09c72639639e5b92cf1e8e9fcc898"
   }
  }
 },
 "nbformat": 4,
 "nbformat_minor": 5
}
