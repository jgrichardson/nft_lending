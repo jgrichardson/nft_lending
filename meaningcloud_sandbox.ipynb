{
 "cells": [
  {
   "cell_type": "code",
   "execution_count": null,
   "id": "b9153fec-9db3-4b2d-a465-a7dc6e9cbf06",
   "metadata": {
    "tags": []
   },
   "outputs": [],
   "source": [
    "# Import the required libraries\n",
    "import os\n",
    "from dotenv import load_dotenv\n",
    "import requests\n",
    "\n",
    "# Load your .env values\n",
    "load_dotenv()\n",
    "\n",
    "# set base URL for meaningcloud\n",
    "sentiment_url = \"https://api.meaningcloud.com/sentiment-2.1\"\n",
    "\n",
    "# Set API key for meaningcloud\n",
    "# Get your own key from https://www.meaningcloud.com/\n",
    "key = os.getenv('946fb32562cdac0c5224df4b34975087')\n",
    "\n",
    "# Input the text you want to analyze\n",
    "txt = 'That restaurant serves the absolute best food in town'\n",
    "\n",
    "# Set the payload for the API request\n",
    "payload={\n",
    "    'key': key,\n",
    "    'txt': txt,\n",
    "    'lang': 'en',\n",
    "}\n",
    "\n",
    "# Make the call to the API passing the url and payload\n",
    "response = requests.post(sentiment_url, data=payload)\n",
    "\n",
    "# Set a variable to store the JSON response\n",
    "data = response.json()\n",
    "\n",
    "# Output some results\n",
    "tab = \"\\t\"\n",
    "print()\n",
    "print(\"Status code is:\" + tab + tab + f\"{response.status_code}\")\n",
    "print(\"Analyzed text:\" + tab + tab + f\"{payload['txt']}\")\n",
    "print(\"Sentiment is:\" + tab + tab + f\"{data['score_tag']}\")\n",
    "print(\"Subjectivity is:\" + tab + f\"{data['subjectivity']}\")\n",
    "print(\"Confidence is:\" + tab + tab + f\"{data['confidence']}\")\n",
    "print(\"Irony is:\" + tab + tab + f\"{data['irony']}\")\n",
    "print()\n"
   ]
  }
 ],
 "metadata": {
  "kernelspec": {
   "display_name": "Python 3 (ipykernel)",
   "language": "python",
   "name": "python3"
  },
  "language_info": {
   "codemirror_mode": {
    "name": "ipython",
    "version": 3
   },
   "file_extension": ".py",
   "mimetype": "text/x-python",
   "name": "python",
   "nbconvert_exporter": "python",
   "pygments_lexer": "ipython3",
   "version": "3.9.12"
  },
  "vscode": {
   "interpreter": {
    "hash": "b2ec66fa3d085a6e66869b1a678e052484c09c72639639e5b92cf1e8e9fcc898"
   }
  }
 },
 "nbformat": 4,
 "nbformat_minor": 5
}
