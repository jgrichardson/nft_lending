{
 "cells": [
  {
   "cell_type": "code",
   "execution_count": 1,
   "id": "b9153fec-9db3-4b2d-a465-a7dc6e9cbf06",
   "metadata": {},
   "outputs": [
    {
     "name": "stdout",
     "output_type": "stream",
     "text": [
      "\n",
      "Status code is:\t\t200\n",
      "Analyzed text:\t\tThat restaurant serves the absolute best food in town\n"
     ]
    },
    {
     "ename": "KeyError",
     "evalue": "'score_tag'",
     "output_type": "error",
     "traceback": [
      "\u001b[0;31m---------------------------------------------------------------------------\u001b[0m",
      "\u001b[0;31mKeyError\u001b[0m                                  Traceback (most recent call last)",
      "\u001b[0;32m/var/folders/rx/gc6cx7xx6vg9ddbljytmzcz00000gn/T/ipykernel_55334/3989511632.py\u001b[0m in \u001b[0;36m<module>\u001b[0;34m\u001b[0m\n\u001b[1;32m     35\u001b[0m \u001b[0mprint\u001b[0m\u001b[0;34m(\u001b[0m\u001b[0;34m\"Status code is:\"\u001b[0m \u001b[0;34m+\u001b[0m \u001b[0mtab\u001b[0m \u001b[0;34m+\u001b[0m \u001b[0mtab\u001b[0m \u001b[0;34m+\u001b[0m \u001b[0;34mf\"{response.status_code}\"\u001b[0m\u001b[0;34m)\u001b[0m\u001b[0;34m\u001b[0m\u001b[0;34m\u001b[0m\u001b[0m\n\u001b[1;32m     36\u001b[0m \u001b[0mprint\u001b[0m\u001b[0;34m(\u001b[0m\u001b[0;34m\"Analyzed text:\"\u001b[0m \u001b[0;34m+\u001b[0m \u001b[0mtab\u001b[0m \u001b[0;34m+\u001b[0m \u001b[0mtab\u001b[0m \u001b[0;34m+\u001b[0m \u001b[0;34mf\"{payload['txt']}\"\u001b[0m\u001b[0;34m)\u001b[0m\u001b[0;34m\u001b[0m\u001b[0;34m\u001b[0m\u001b[0m\n\u001b[0;32m---> 37\u001b[0;31m \u001b[0mprint\u001b[0m\u001b[0;34m(\u001b[0m\u001b[0;34m\"Sentiment is:\"\u001b[0m \u001b[0;34m+\u001b[0m \u001b[0mtab\u001b[0m \u001b[0;34m+\u001b[0m \u001b[0mtab\u001b[0m \u001b[0;34m+\u001b[0m \u001b[0;34mf\"{data['score_tag']}\"\u001b[0m\u001b[0;34m)\u001b[0m\u001b[0;34m\u001b[0m\u001b[0;34m\u001b[0m\u001b[0m\n\u001b[0m\u001b[1;32m     38\u001b[0m \u001b[0mprint\u001b[0m\u001b[0;34m(\u001b[0m\u001b[0;34m\"Subjectivity is:\"\u001b[0m \u001b[0;34m+\u001b[0m \u001b[0mtab\u001b[0m \u001b[0;34m+\u001b[0m \u001b[0;34mf\"{data['subjectivity']}\"\u001b[0m\u001b[0;34m)\u001b[0m\u001b[0;34m\u001b[0m\u001b[0;34m\u001b[0m\u001b[0m\n\u001b[1;32m     39\u001b[0m \u001b[0mprint\u001b[0m\u001b[0;34m(\u001b[0m\u001b[0;34m\"Confidence is:\"\u001b[0m \u001b[0;34m+\u001b[0m \u001b[0mtab\u001b[0m \u001b[0;34m+\u001b[0m \u001b[0mtab\u001b[0m \u001b[0;34m+\u001b[0m \u001b[0;34mf\"{data['confidence']}\"\u001b[0m\u001b[0;34m)\u001b[0m\u001b[0;34m\u001b[0m\u001b[0;34m\u001b[0m\u001b[0m\n",
      "\u001b[0;31mKeyError\u001b[0m: 'score_tag'"
     ]
    }
   ],
   "source": [
    "# Import the required libraries\n",
    "import os\n",
    "from dotenv import load_dotenv\n",
    "import requests\n",
    "\n",
    "# Load your .env values\n",
    "load_dotenv()\n",
    "\n",
    "# set base URL for meaningcloud\n",
    "sentiment_url = \"https://api.meaningcloud.com/sentiment-2.1\"\n",
    "\n",
    "# Set API key for meaningcloud\n",
    "# Get your own key from https://www.meaningcloud.com/\n",
    "key = os.getenv('946fb32562cdac0c5224df4b34975087')\n",
    "\n",
    "# Input the text you want to analyze\n",
    "txt = 'That restaurant serves the absolute best food in town'\n",
    "\n",
    "# Set the payload for the API request\n",
    "payload={\n",
    "    'key': key,\n",
    "    'txt': txt,\n",
    "    'lang': 'en',\n",
    "}\n",
    "\n",
    "# Make the call to the API passing the url and payload\n",
    "response = requests.post(sentiment_url, data=payload)\n",
    "\n",
    "# Set a variable to store the JSON response\n",
    "data = response.json()\n",
    "\n",
    "# Output some results\n",
    "tab = \"\\t\"\n",
    "print()\n",
    "print(\"Status code is:\" + tab + tab + f\"{response.status_code}\")\n",
    "print(\"Analyzed text:\" + tab + tab + f\"{payload['txt']}\")\n",
    "print(\"Sentiment is:\" + tab + tab + f\"{data['score_tag']}\")\n",
    "print(\"Subjectivity is:\" + tab + f\"{data['subjectivity']}\")\n",
    "print(\"Confidence is:\" + tab + tab + f\"{data['confidence']}\")\n",
    "print(\"Irony is:\" + tab + tab + f\"{data['irony']}\")\n",
    "print()\n"
   ]
  },
  {
   "cell_type": "code",
   "execution_count": null,
   "id": "ecb45f8d",
   "metadata": {},
   "outputs": [],
   "source": []
  },
  {
   "cell_type": "code",
   "execution_count": null,
   "id": "f05f144a-ff39-4278-940b-af8f0dd4a30f",
   "metadata": {},
   "outputs": [],
   "source": []
  }
 ],
 "metadata": {
  "kernelspec": {
   "display_name": "Python 3.7.13 ('dev')",
   "language": "python",
   "name": "python3"
  },
  "language_info": {
   "codemirror_mode": {
    "name": "ipython",
    "version": 3
   },
   "file_extension": ".py",
   "mimetype": "text/x-python",
   "name": "python",
   "nbconvert_exporter": "python",
   "pygments_lexer": "ipython3",
   "version": "3.7.13"
  },
  "vscode": {
   "interpreter": {
    "hash": "b2ec66fa3d085a6e66869b1a678e052484c09c72639639e5b92cf1e8e9fcc898"
   }
  }
 },
 "nbformat": 4,
 "nbformat_minor": 5
}
